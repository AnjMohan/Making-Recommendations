{
 "cells": [
  {
   "cell_type": "code",
   "execution_count": 1,
   "metadata": {},
   "outputs": [],
   "source": [
    "#Load Libraries\n",
    "import numpy as np\n",
    "import pandas as pd\n",
    "import matplotlib.pyplot as plt\n",
    "%matplotlib inline\n",
    "import seaborn as sns"
   ]
  },
  {
   "cell_type": "code",
   "execution_count": 2,
   "metadata": {},
   "outputs": [
    {
     "data": {
      "text/html": [
       "<div>\n",
       "<style scoped>\n",
       "    .dataframe tbody tr th:only-of-type {\n",
       "        vertical-align: middle;\n",
       "    }\n",
       "\n",
       "    .dataframe tbody tr th {\n",
       "        vertical-align: top;\n",
       "    }\n",
       "\n",
       "    .dataframe thead th {\n",
       "        text-align: right;\n",
       "    }\n",
       "</style>\n",
       "<table border=\"1\" class=\"dataframe\">\n",
       "  <thead>\n",
       "    <tr style=\"text-align: right;\">\n",
       "      <th></th>\n",
       "      <th>X1</th>\n",
       "      <th>X2</th>\n",
       "      <th>X3</th>\n",
       "      <th>X4</th>\n",
       "      <th>X5</th>\n",
       "      <th>X6</th>\n",
       "      <th>X7</th>\n",
       "      <th>X8</th>\n",
       "      <th>Y_dependent</th>\n",
       "    </tr>\n",
       "  </thead>\n",
       "  <tbody>\n",
       "    <tr>\n",
       "      <th>0</th>\n",
       "      <td>0.98</td>\n",
       "      <td>514.5</td>\n",
       "      <td>294.0</td>\n",
       "      <td>110.25</td>\n",
       "      <td>7.0</td>\n",
       "      <td>2</td>\n",
       "      <td>0.0</td>\n",
       "      <td>0</td>\n",
       "      <td>21.33</td>\n",
       "    </tr>\n",
       "    <tr>\n",
       "      <th>1</th>\n",
       "      <td>0.98</td>\n",
       "      <td>514.5</td>\n",
       "      <td>294.0</td>\n",
       "      <td>110.25</td>\n",
       "      <td>7.0</td>\n",
       "      <td>3</td>\n",
       "      <td>0.0</td>\n",
       "      <td>0</td>\n",
       "      <td>21.33</td>\n",
       "    </tr>\n",
       "    <tr>\n",
       "      <th>2</th>\n",
       "      <td>0.98</td>\n",
       "      <td>514.5</td>\n",
       "      <td>294.0</td>\n",
       "      <td>110.25</td>\n",
       "      <td>7.0</td>\n",
       "      <td>4</td>\n",
       "      <td>0.0</td>\n",
       "      <td>0</td>\n",
       "      <td>21.33</td>\n",
       "    </tr>\n",
       "    <tr>\n",
       "      <th>3</th>\n",
       "      <td>0.98</td>\n",
       "      <td>514.5</td>\n",
       "      <td>294.0</td>\n",
       "      <td>110.25</td>\n",
       "      <td>7.0</td>\n",
       "      <td>5</td>\n",
       "      <td>0.0</td>\n",
       "      <td>0</td>\n",
       "      <td>21.33</td>\n",
       "    </tr>\n",
       "    <tr>\n",
       "      <th>4</th>\n",
       "      <td>0.90</td>\n",
       "      <td>563.5</td>\n",
       "      <td>318.5</td>\n",
       "      <td>122.50</td>\n",
       "      <td>7.0</td>\n",
       "      <td>2</td>\n",
       "      <td>0.0</td>\n",
       "      <td>0</td>\n",
       "      <td>28.28</td>\n",
       "    </tr>\n",
       "  </tbody>\n",
       "</table>\n",
       "</div>"
      ],
      "text/plain": [
       "     X1     X2     X3      X4   X5  X6   X7  X8  Y_dependent\n",
       "0  0.98  514.5  294.0  110.25  7.0   2  0.0   0        21.33\n",
       "1  0.98  514.5  294.0  110.25  7.0   3  0.0   0        21.33\n",
       "2  0.98  514.5  294.0  110.25  7.0   4  0.0   0        21.33\n",
       "3  0.98  514.5  294.0  110.25  7.0   5  0.0   0        21.33\n",
       "4  0.90  563.5  318.5  122.50  7.0   2  0.0   0        28.28"
      ]
     },
     "execution_count": 2,
     "metadata": {},
     "output_type": "execute_result"
    }
   ],
   "source": [
    "#Load Dataset\n",
    "dataset = pd.read_csv('EnergyUse-Cooling.csv')\n",
    "dataset.head()"
   ]
  },
  {
   "cell_type": "code",
   "execution_count": 3,
   "metadata": {},
   "outputs": [
    {
     "name": "stdout",
     "output_type": "stream",
     "text": [
      "<class 'pandas.core.frame.DataFrame'>\n",
      "RangeIndex: 768 entries, 0 to 767\n",
      "Data columns (total 9 columns):\n",
      " #   Column       Non-Null Count  Dtype  \n",
      "---  ------       --------------  -----  \n",
      " 0   X1           768 non-null    float64\n",
      " 1   X2           768 non-null    float64\n",
      " 2   X3           768 non-null    float64\n",
      " 3   X4           768 non-null    float64\n",
      " 4   X5           768 non-null    float64\n",
      " 5   X6           768 non-null    int64  \n",
      " 6   X7           768 non-null    float64\n",
      " 7   X8           768 non-null    int64  \n",
      " 8   Y_dependent  768 non-null    float64\n",
      "dtypes: float64(7), int64(2)\n",
      "memory usage: 54.1 KB\n"
     ]
    }
   ],
   "source": [
    "#Overview of Dataset Characteristics\n",
    "dataset.info()"
   ]
  },
  {
   "cell_type": "code",
   "execution_count": 4,
   "metadata": {},
   "outputs": [
    {
     "data": {
      "text/plain": [
       "X1             0\n",
       "X2             0\n",
       "X3             0\n",
       "X4             0\n",
       "X5             0\n",
       "X6             0\n",
       "X7             0\n",
       "X8             0\n",
       "Y_dependent    0\n",
       "dtype: int64"
      ]
     },
     "execution_count": 4,
     "metadata": {},
     "output_type": "execute_result"
    }
   ],
   "source": [
    "#Summary of N/A Values\n",
    "dataset.isnull().sum()"
   ]
  },
  {
   "cell_type": "code",
   "execution_count": 5,
   "metadata": {},
   "outputs": [
    {
     "data": {
      "text/html": [
       "<div>\n",
       "<style scoped>\n",
       "    .dataframe tbody tr th:only-of-type {\n",
       "        vertical-align: middle;\n",
       "    }\n",
       "\n",
       "    .dataframe tbody tr th {\n",
       "        vertical-align: top;\n",
       "    }\n",
       "\n",
       "    .dataframe thead th {\n",
       "        text-align: right;\n",
       "    }\n",
       "</style>\n",
       "<table border=\"1\" class=\"dataframe\">\n",
       "  <thead>\n",
       "    <tr style=\"text-align: right;\">\n",
       "      <th></th>\n",
       "      <th>X1</th>\n",
       "      <th>X2</th>\n",
       "      <th>X3</th>\n",
       "      <th>X4</th>\n",
       "      <th>X5</th>\n",
       "      <th>X6</th>\n",
       "      <th>X7</th>\n",
       "      <th>X8</th>\n",
       "      <th>Y_dependent</th>\n",
       "    </tr>\n",
       "  </thead>\n",
       "  <tbody>\n",
       "    <tr>\n",
       "      <th>count</th>\n",
       "      <td>768.000000</td>\n",
       "      <td>768.000000</td>\n",
       "      <td>768.000000</td>\n",
       "      <td>768.000000</td>\n",
       "      <td>768.00000</td>\n",
       "      <td>768.000000</td>\n",
       "      <td>768.000000</td>\n",
       "      <td>768.00000</td>\n",
       "      <td>768.000000</td>\n",
       "    </tr>\n",
       "    <tr>\n",
       "      <th>mean</th>\n",
       "      <td>0.764167</td>\n",
       "      <td>671.708333</td>\n",
       "      <td>318.500000</td>\n",
       "      <td>176.604167</td>\n",
       "      <td>5.25000</td>\n",
       "      <td>3.500000</td>\n",
       "      <td>0.234375</td>\n",
       "      <td>2.81250</td>\n",
       "      <td>24.587760</td>\n",
       "    </tr>\n",
       "    <tr>\n",
       "      <th>std</th>\n",
       "      <td>0.105777</td>\n",
       "      <td>88.086116</td>\n",
       "      <td>43.626481</td>\n",
       "      <td>45.165950</td>\n",
       "      <td>1.75114</td>\n",
       "      <td>1.118763</td>\n",
       "      <td>0.133221</td>\n",
       "      <td>1.55096</td>\n",
       "      <td>9.513306</td>\n",
       "    </tr>\n",
       "    <tr>\n",
       "      <th>min</th>\n",
       "      <td>0.620000</td>\n",
       "      <td>514.500000</td>\n",
       "      <td>245.000000</td>\n",
       "      <td>110.250000</td>\n",
       "      <td>3.50000</td>\n",
       "      <td>2.000000</td>\n",
       "      <td>0.000000</td>\n",
       "      <td>0.00000</td>\n",
       "      <td>10.900000</td>\n",
       "    </tr>\n",
       "    <tr>\n",
       "      <th>25%</th>\n",
       "      <td>0.682500</td>\n",
       "      <td>606.375000</td>\n",
       "      <td>294.000000</td>\n",
       "      <td>140.875000</td>\n",
       "      <td>3.50000</td>\n",
       "      <td>2.750000</td>\n",
       "      <td>0.100000</td>\n",
       "      <td>1.75000</td>\n",
       "      <td>15.620000</td>\n",
       "    </tr>\n",
       "    <tr>\n",
       "      <th>50%</th>\n",
       "      <td>0.750000</td>\n",
       "      <td>673.750000</td>\n",
       "      <td>318.500000</td>\n",
       "      <td>183.750000</td>\n",
       "      <td>5.25000</td>\n",
       "      <td>3.500000</td>\n",
       "      <td>0.250000</td>\n",
       "      <td>3.00000</td>\n",
       "      <td>22.080000</td>\n",
       "    </tr>\n",
       "    <tr>\n",
       "      <th>75%</th>\n",
       "      <td>0.830000</td>\n",
       "      <td>741.125000</td>\n",
       "      <td>343.000000</td>\n",
       "      <td>220.500000</td>\n",
       "      <td>7.00000</td>\n",
       "      <td>4.250000</td>\n",
       "      <td>0.400000</td>\n",
       "      <td>4.00000</td>\n",
       "      <td>33.132500</td>\n",
       "    </tr>\n",
       "    <tr>\n",
       "      <th>max</th>\n",
       "      <td>0.980000</td>\n",
       "      <td>808.500000</td>\n",
       "      <td>416.500000</td>\n",
       "      <td>220.500000</td>\n",
       "      <td>7.00000</td>\n",
       "      <td>5.000000</td>\n",
       "      <td>0.400000</td>\n",
       "      <td>5.00000</td>\n",
       "      <td>48.030000</td>\n",
       "    </tr>\n",
       "  </tbody>\n",
       "</table>\n",
       "</div>"
      ],
      "text/plain": [
       "               X1          X2          X3          X4         X5          X6  \\\n",
       "count  768.000000  768.000000  768.000000  768.000000  768.00000  768.000000   \n",
       "mean     0.764167  671.708333  318.500000  176.604167    5.25000    3.500000   \n",
       "std      0.105777   88.086116   43.626481   45.165950    1.75114    1.118763   \n",
       "min      0.620000  514.500000  245.000000  110.250000    3.50000    2.000000   \n",
       "25%      0.682500  606.375000  294.000000  140.875000    3.50000    2.750000   \n",
       "50%      0.750000  673.750000  318.500000  183.750000    5.25000    3.500000   \n",
       "75%      0.830000  741.125000  343.000000  220.500000    7.00000    4.250000   \n",
       "max      0.980000  808.500000  416.500000  220.500000    7.00000    5.000000   \n",
       "\n",
       "               X7         X8  Y_dependent  \n",
       "count  768.000000  768.00000   768.000000  \n",
       "mean     0.234375    2.81250    24.587760  \n",
       "std      0.133221    1.55096     9.513306  \n",
       "min      0.000000    0.00000    10.900000  \n",
       "25%      0.100000    1.75000    15.620000  \n",
       "50%      0.250000    3.00000    22.080000  \n",
       "75%      0.400000    4.00000    33.132500  \n",
       "max      0.400000    5.00000    48.030000  "
      ]
     },
     "execution_count": 5,
     "metadata": {},
     "output_type": "execute_result"
    }
   ],
   "source": [
    "dataset.describe()"
   ]
  },
  {
   "cell_type": "code",
   "execution_count": 6,
   "metadata": {},
   "outputs": [
    {
     "data": {
      "image/png": "[encoded data removed]",
      "text/plain": [
       "<Figure size 1080x360 with 1 Axes>"
      ]
     },
     "metadata": {
      "needs_background": "light"
     },
     "output_type": "display_data"
    }
   ],
   "source": [
    "#BoxPlot Feature Set Comparison\n",
    "fig = plt.figure(figsize=(15,5))\n",
    "fig.suptitle('Feature Set Comparison')\n",
    "ax = fig.add_subplot(111)\n",
    "sns.boxplot(data=dataset)\n",
    "plt.show()"
   ]
  },
  {
   "cell_type": "code",
   "execution_count": 7,
   "metadata": {},
   "outputs": [
    {
     "data": {
      "text/plain": [
       "<AxesSubplot:>"
      ]
     },
     "execution_count": 7,
     "metadata": {},
     "output_type": "execute_result"
    },
    {
     "data": {
      "image/png": "[encoded data removed]",
      "text/plain": [
       "<Figure size 720x360 with 2 Axes>"
      ]
     },
     "metadata": {
      "needs_background": "light"
     },
     "output_type": "display_data"
    }
   ],
   "source": [
    "#Visualization of Correlations\n",
    "fig = plt.figure(figsize=(10,5))\n",
    "sns.heatmap(dataset.corr(),annot=True,cmap=\"Blues\")"
   ]
  },
  {
   "cell_type": "code",
   "execution_count": 9,
   "metadata": {},
   "outputs": [
    {
     "name": "stdout",
     "output_type": "stream",
     "text": [
      "Correlated columns @ 0.8: [('X2', 'X1'), ('X4', 'X1'), ('X4', 'X2'), ('X5', 'X1'), ('X5', 'X2'), ('X5', 'X4'), ('Y_dependent', 'X4'), ('Y_dependent', 'X5')]\n"
     ]
    }
   ],
   "source": [
    "#Find Independent Column Correlations\n",
    "def correlation(dataset,threshold):\n",
    "    col_corr= [] # List of correlated columns\n",
    "    corr_matrix=dataset.corr() #finding correlation between columns\n",
    "    for i in range (len(corr_matrix.columns)): #Number of columns\n",
    "        for j in range (i):\n",
    "            if abs(corr_matrix.iloc[i,j])>threshold: #checking correlation between columns\n",
    "                colName=(corr_matrix.columns[i], corr_matrix.columns[j]) #getting correlated columns\n",
    "                col_corr.append(colName) #adding correlated column name\n",
    "    return col_corr #returning set of column names\n",
    "col=correlation(dataset,0.8)\n",
    "print('Correlated columns @ 0.8:', col)"
   ]
  },
  {
   "cell_type": "code",
   "execution_count": 10,
   "metadata": {},
   "outputs": [],
   "source": [
    "#Create x and y variables\n",
    "x = dataset.drop('Y_dependent', axis=1).to_numpy()\n",
    "y = dataset['Y_dependent'].to_numpy()\n",
    "\n",
    "#Create Train and Test Datasets\n",
    "from sklearn.model_selection import train_test_split\n",
    "x_train,x_test,y_train,y_test = train_test_split(x,y,test_size = 0.2,random_state = 100) \n",
    "\n",
    "#Scale the Data\n",
    "from sklearn.preprocessing import StandardScaler\n",
    "sc = StandardScaler()\n",
    "x_train2 = sc.fit_transform(x_train)\n",
    "x_test2 = sc.transform(x_test)\n",
    "\n",
    "#Model\n",
    "from sklearn.neighbors import KNeighborsRegressor"
   ]
  },
  {
   "cell_type": "code",
   "execution_count": 11,
   "metadata": {},
   "outputs": [],
   "source": [
    "#Learning Curve\n",
    "from sklearn.model_selection import learning_curve\n",
    "\n",
    "def plot_learning_curves(model):\n",
    "    train_sizes, train_scores, test_scores = learning_curve(estimator=model,\n",
    "                                                            X=x_train2, \n",
    "                                                            y=y_train,\n",
    "                                                            train_sizes=np.linspace(.1,1,10),\n",
    "                                                            scoring = 'neg_root_mean_squared_error',\n",
    "                                                            cv=10, random_state=100)\n",
    "    \n",
    "    train_mean = np.sqrt(np.mean(-train_scores, axis=1))\n",
    "    train_std = np.sqrt(np.std(-train_scores, axis=1))\n",
    "    test_mean = np.sqrt(np.mean(-test_scores, axis=1))\n",
    "    test_std = np.sqrt(np.std(-test_scores, axis=1))\n",
    "    \n",
    "    plt.plot(train_sizes, train_mean,color='blue', marker='o', \n",
    "             markersize=5, label='training accuracy')\n",
    "    plt.fill_between(train_sizes, train_mean + train_std, train_mean - train_std,\n",
    "                     alpha=0.15, color='blue')\n",
    "\n",
    "    plt.plot(train_sizes, test_mean, color='green', linestyle='--', marker='s', markersize=5,\n",
    "             label='validation accuracy')\n",
    "    plt.fill_between(train_sizes, test_mean + test_std, test_mean - test_std,\n",
    "                     alpha=0.15, color='green')\n",
    "    plt.grid(True)\n",
    "    plt.xlabel('Number of training samples')\n",
    "    plt.ylabel('RMSE')\n",
    "    plt.legend(loc='best')\n",
    "    plt.ylim([0,10])\n",
    "    plt.show()"
   ]
  },
  {
   "cell_type": "code",
   "execution_count": 12,
   "metadata": {},
   "outputs": [
    {
     "name": "stdout",
     "output_type": "stream",
     "text": [
      "k-NN Regressor Learning Curve\n"
     ]
    },
    {
     "data": {
      "image/png": "[encoded data removed]",
      "text/plain": [
       "<Figure size 432x288 with 1 Axes>"
      ]
     },
     "metadata": {
      "needs_background": "light"
     },
     "output_type": "display_data"
    }
   ],
   "source": [
    "#Plot Learning Curve\n",
    "print('k-NN Regressor Learning Curve')\n",
    "plot_learning_curves(KNeighborsRegressor(2))"
   ]
  },
  {
   "cell_type": "code",
   "execution_count": 13,
   "metadata": {},
   "outputs": [
    {
     "name": "stdout",
     "output_type": "stream",
     "text": [
      "Bias Variance Trade-Off\n",
      "\n",
      "Estimator: kNN\n",
      "Average Bias: 7.11\n",
      "Average Variance: 4.84\n"
     ]
    }
   ],
   "source": [
    "#Bias and Variance\n",
    "from mlxtend.evaluate import bias_variance_decomp\n",
    "\n",
    "#Script for Bias Variance\n",
    "print('Bias Variance Trade-Off')\n",
    "for name,method in[('kNN',KNeighborsRegressor(2))]:        \n",
    "    avg_expected_loss, avg_bias, avg_var = bias_variance_decomp(\n",
    "        method, x_train2, y_train, x_test2, y_test, \n",
    "        loss='mse',\n",
    "        random_seed=100)\n",
    "    print('\\nEstimator: {}'.format(name)) \n",
    "    print('Average Bias: {:.2f}'.format(avg_bias))\n",
    "    print('Average Variance: {:.2f}'.format(avg_var))  "
   ]
  },
  {
   "cell_type": "code",
   "execution_count": 14,
   "metadata": {},
   "outputs": [
    {
     "name": "stdout",
     "output_type": "stream",
     "text": [
      "Original Model\n",
      "\n",
      "n_neighbors: 2\n",
      "\n",
      "R2: 0.90\n",
      "Adj_R2: 0.90\n",
      "Mean Absolute Error: 1.88\n",
      "Mean Squared Error: 8.33\n",
      "Root Mean Squared Error: 2.89\n"
     ]
    }
   ],
   "source": [
    "#Original Model - KNN\n",
    "\n",
    "#Search for an optimal value of K for KNN\n",
    "from sklearn.model_selection import cross_val_score\n",
    "from sklearn import metrics  \n",
    "\n",
    "k_range = range(1, 10)\n",
    "k_scores = []\n",
    "\n",
    "for k in k_range:\n",
    "    knn_org = KNeighborsRegressor(n_neighbors=k)\n",
    "    #obtain cross_val_score for KNeighborsClassifier with k neighbours\n",
    "    scores = cross_val_score(knn_org, x_train2, y_train, cv=10, scoring='neg_root_mean_squared_error')\n",
    "    #append mean of scores for k neighbors to k_scores list\n",
    "    k_scores.append(scores.mean())\n",
    "    \n",
    "#Print Best Score\n",
    "BestScore = [1 - x for x in k_scores]\n",
    "best_k = k_range[BestScore.index(min(BestScore))]\n",
    "\n",
    "#Create Orginal KNN model\n",
    "classifier_org = KNeighborsRegressor(n_neighbors = best_k)\n",
    "\n",
    "#Fit KNN Model\n",
    "classifier_org.fit(x_train2, y_train)\n",
    "\n",
    "#Prediction\n",
    "y_pred_org = classifier_org.predict(x_test2)\n",
    "\n",
    "print('Original Model')\n",
    "print('\\nn_neighbors:',str(best_k))\n",
    "print('\\nR2: {:.2f}'.format(metrics.r2_score(y_test, y_pred_org)))\n",
    "adjusted_r_squared = 1-(1-metrics.r2_score(y_test,y_pred_org))*(len(y)-1)/(len(y)-x.shape[1]-1)\n",
    "print('Adj_R2: {:0.2f}'.format(adjusted_r_squared))\n",
    "print('Mean Absolute Error: {:0.2f}'.format(metrics.mean_absolute_error(y_test, y_pred_org)))  \n",
    "print('Mean Squared Error: {:0.2f}'.format(metrics.mean_squared_error(y_test, y_pred_org)))  \n",
    "print('Root Mean Squared Error: {:0.2f}'.format(np.sqrt(metrics.mean_squared_error(y_test, y_pred_org))))  "
   ]
  },
  {
   "cell_type": "code",
   "execution_count": 15,
   "metadata": {
    "scrolled": true
   },
   "outputs": [
    {
     "name": "stdout",
     "output_type": "stream",
     "text": [
      "Optimized Model\n",
      "\n",
      "Estimator: k-NN Regression Model\n",
      "\n",
      "Best params: {'algorithm': 'brute', 'n_neighbors': 4, 'weights': 'distance'}\n",
      "\n",
      "R2: 0.91\n",
      "Adj_R2: 0.90\n",
      "Mean Absolute Error: 1.84\n",
      "Mean Squared Error: 7.92\n",
      "Root Mean Squared Error: 2.81\n"
     ]
    }
   ],
   "source": [
    "#Gridsearch\n",
    "\n",
    "from sklearn.model_selection import GridSearchCV\n",
    "\n",
    "#k-NN Regression Model\n",
    "knnreg2 = KNeighborsRegressor()\n",
    "k_range = range(1, 10)\n",
    "param_grid = { \n",
    "           'n_neighbors': k_range,\n",
    "           'algorithm' : ['auto','ball_tree','kd_tree','brute'],\n",
    "           'weights' : ['uniform','distance']}\n",
    "\n",
    "knn_model = GridSearchCV(knnreg2, param_grid, cv=10, verbose=0,\n",
    "                         scoring='neg_root_mean_squared_error')\n",
    "\n",
    "grids = [knn_model] \n",
    "grid_dict = {0:'k-NN Regression Model'}\n",
    "\n",
    "#Model Creation\n",
    "\n",
    "#Create Heading\n",
    "print('Optimized Model') \n",
    "\n",
    "#Fit the grid search objects \n",
    "for idx, optmodel in enumerate(grids): \n",
    "     print('\\nEstimator: {}'.format(grid_dict[idx])) \n",
    "     #Fit grid search\n",
    "     optmodel.fit(x_train2, y_train) \n",
    "     #Best params \n",
    "     print('\\nBest params: {}'.format(optmodel.best_params_)) \n",
    "     # Predict on test data with best params \n",
    "     y_pred3 = optmodel.predict(x_test2) \n",
    "     # Test data accuracy of model with best params    \n",
    "     print('\\nR2: {:.2f}'.format(metrics.r2_score(y_test, y_pred3)))\n",
    "     adjusted_r_squared = 1-(1-metrics.r2_score(y_test,y_pred3))*(len(y)-1)/(len(y)-x.shape[1]-1)\n",
    "     print('Adj_R2: {:0.2f}'.format(adjusted_r_squared))  \n",
    "     #Print MSE and RMSE\n",
    "     print('Mean Absolute Error: {:.2f}'.format(metrics.mean_absolute_error(y_test, y_pred3)))\n",
    "     print('Mean Squared Error: {:.2f}'.format(metrics.mean_squared_error(y_test, y_pred3)))\n",
    "     print('Root Mean Squared Error: {:.2f}'.format(np.sqrt(metrics.mean_squared_error(y_test, y_pred3))))  "
   ]
  }
 ],
 "metadata": {
  "kernelspec": {
   "display_name": "Python 3",
   "language": "python",
   "name": "python3"
  },
  "language_info": {
   "codemirror_mode": {
    "name": "ipython",
    "version": 3
   },
   "file_extension": ".py",
   "mimetype": "text/x-python",
   "name": "python",
   "nbconvert_exporter": "python",
   "pygments_lexer": "ipython3",
   "version": "3.8.8"
  }
 },
 "nbformat": 4,
 "nbformat_minor": 2
}
