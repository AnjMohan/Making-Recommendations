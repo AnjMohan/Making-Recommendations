{
 "cells": [
  {
   "cell_type": "markdown",
   "metadata": {},
   "source": [
    "Note: Please run the codes in sequence to avoid getting error"
   ]
  },
  {
   "cell_type": "markdown",
   "metadata": {},
   "source": [
    "### Step 1. Import the necessary libraries"
   ]
  },
  {
   "cell_type": "code",
   "execution_count": 9,
   "metadata": {},
   "outputs": [],
   "source": [
    "import numpy as np\n",
    "import pandas as pd\n",
    "import matplotlib.pyplot as plt"
   ]
  },
  {
   "cell_type": "markdown",
   "metadata": {},
   "source": [
    "### Step 2. Import the dataset and print the first five records. "
   ]
  },
  {
   "cell_type": "code",
   "execution_count": 10,
   "metadata": {},
   "outputs": [
    {
     "name": "stdout",
     "output_type": "stream",
     "text": [
      "[[1.96000000e+03 1.79323175e+08 9.11000000e+03 1.71900000e+04\n",
      "  1.07840000e+05 1.54320000e+05 9.12100000e+05 1.85540000e+06\n",
      "  3.28200000e+05]\n",
      " [1.96100000e+03 1.82992000e+08 8.74000000e+03 1.72200000e+04\n",
      "  1.06670000e+05 1.56760000e+05 9.49600000e+05 1.91300000e+06\n",
      "  3.36000000e+05]\n",
      " [1.96200000e+03 1.85771000e+08 8.53000000e+03 1.75500000e+04\n",
      "  1.10860000e+05 1.64570000e+05 9.94300000e+05 2.08960000e+06\n",
      "  3.66800000e+05]\n",
      " [1.96300000e+03 1.88483000e+08 8.64000000e+03 1.76500000e+04\n",
      "  1.16470000e+05 1.74210000e+05 1.08640000e+06 2.29780000e+06\n",
      "  4.08300000e+05]\n",
      " [1.96400000e+03 1.91141000e+08 9.36000000e+03 2.14200000e+04\n",
      "  1.30390000e+05 2.03050000e+05 1.21320000e+06 2.51440000e+06\n",
      "  4.72800000e+05]]\n"
     ]
    }
   ],
   "source": [
    "dataset = np.genfromtxt(\"crime.csv\",delimiter=\",\", skip_header=1)\n",
    "print(dataset[0:5])\n"
   ]
  },
  {
   "cell_type": "markdown",
   "metadata": {},
   "source": [
    "To print the first five rows I have first used 'slicing method' starting with index 0 until the index 5 as last index is exclusive. Secondly, I have used the built-in method to extract the 5 records from the given dataset."
   ]
  },
  {
   "cell_type": "code",
   "execution_count": 11,
   "metadata": {},
   "outputs": [
    {
     "name": "stdout",
     "output_type": "stream",
     "text": [
      "      Population  Murder  Forcible_Rape  Robbery  Aggravated_assault  \\\n",
      "Year                                                                   \n",
      "1960   179323175    9110          17190   107840              154320   \n",
      "1961   182992000    8740          17220   106670              156760   \n",
      "1962   185771000    8530          17550   110860              164570   \n",
      "1963   188483000    8640          17650   116470              174210   \n",
      "1964   191141000    9360          21420   130390              203050   \n",
      "\n",
      "      Burglary  Larceny_Theft  Vehicle_Theft  \n",
      "Year                                          \n",
      "1960    912100        1855400         328200  \n",
      "1961    949600        1913000         336000  \n",
      "1962    994300        2089600         366800  \n",
      "1963   1086400        2297800         408300  \n",
      "1964   1213200        2514400         472800  \n"
     ]
    },
    {
     "data": {
      "text/html": [
       "<div>\n",
       "<style scoped>\n",
       "    .dataframe tbody tr th:only-of-type {\n",
       "        vertical-align: middle;\n",
       "    }\n",
       "\n",
       "    .dataframe tbody tr th {\n",
       "        vertical-align: top;\n",
       "    }\n",
       "\n",
       "    .dataframe thead th {\n",
       "        text-align: right;\n",
       "    }\n",
       "</style>\n",
       "<table border=\"1\" class=\"dataframe\">\n",
       "  <thead>\n",
       "    <tr style=\"text-align: right;\">\n",
       "      <th></th>\n",
       "      <th>Population</th>\n",
       "      <th>Murder</th>\n",
       "      <th>Forcible_Rape</th>\n",
       "      <th>Robbery</th>\n",
       "      <th>Aggravated_assault</th>\n",
       "      <th>Burglary</th>\n",
       "      <th>Larceny_Theft</th>\n",
       "      <th>Vehicle_Theft</th>\n",
       "    </tr>\n",
       "    <tr>\n",
       "      <th>Year</th>\n",
       "      <th></th>\n",
       "      <th></th>\n",
       "      <th></th>\n",
       "      <th></th>\n",
       "      <th></th>\n",
       "      <th></th>\n",
       "      <th></th>\n",
       "      <th></th>\n",
       "    </tr>\n",
       "  </thead>\n",
       "  <tbody>\n",
       "    <tr>\n",
       "      <th>1960</th>\n",
       "      <td>179323175</td>\n",
       "      <td>9110</td>\n",
       "      <td>17190</td>\n",
       "      <td>107840</td>\n",
       "      <td>154320</td>\n",
       "      <td>912100</td>\n",
       "      <td>1855400</td>\n",
       "      <td>328200</td>\n",
       "    </tr>\n",
       "    <tr>\n",
       "      <th>1961</th>\n",
       "      <td>182992000</td>\n",
       "      <td>8740</td>\n",
       "      <td>17220</td>\n",
       "      <td>106670</td>\n",
       "      <td>156760</td>\n",
       "      <td>949600</td>\n",
       "      <td>1913000</td>\n",
       "      <td>336000</td>\n",
       "    </tr>\n",
       "    <tr>\n",
       "      <th>1962</th>\n",
       "      <td>185771000</td>\n",
       "      <td>8530</td>\n",
       "      <td>17550</td>\n",
       "      <td>110860</td>\n",
       "      <td>164570</td>\n",
       "      <td>994300</td>\n",
       "      <td>2089600</td>\n",
       "      <td>366800</td>\n",
       "    </tr>\n",
       "    <tr>\n",
       "      <th>1963</th>\n",
       "      <td>188483000</td>\n",
       "      <td>8640</td>\n",
       "      <td>17650</td>\n",
       "      <td>116470</td>\n",
       "      <td>174210</td>\n",
       "      <td>1086400</td>\n",
       "      <td>2297800</td>\n",
       "      <td>408300</td>\n",
       "    </tr>\n",
       "    <tr>\n",
       "      <th>1964</th>\n",
       "      <td>191141000</td>\n",
       "      <td>9360</td>\n",
       "      <td>21420</td>\n",
       "      <td>130390</td>\n",
       "      <td>203050</td>\n",
       "      <td>1213200</td>\n",
       "      <td>2514400</td>\n",
       "      <td>472800</td>\n",
       "    </tr>\n",
       "  </tbody>\n",
       "</table>\n",
       "</div>"
      ],
      "text/plain": [
       "      Population  Murder  Forcible_Rape  Robbery  Aggravated_assault  \\\n",
       "Year                                                                   \n",
       "1960   179323175    9110          17190   107840              154320   \n",
       "1961   182992000    8740          17220   106670              156760   \n",
       "1962   185771000    8530          17550   110860              164570   \n",
       "1963   188483000    8640          17650   116470              174210   \n",
       "1964   191141000    9360          21420   130390              203050   \n",
       "\n",
       "      Burglary  Larceny_Theft  Vehicle_Theft  \n",
       "Year                                          \n",
       "1960    912100        1855400         328200  \n",
       "1961    949600        1913000         336000  \n",
       "1962    994300        2089600         366800  \n",
       "1963   1086400        2297800         408300  \n",
       "1964   1213200        2514400         472800  "
      ]
     },
     "execution_count": 11,
     "metadata": {},
     "output_type": "execute_result"
    }
   ],
   "source": [
    "dataset = pd.read_csv('crime.csv', index_col = 0)\n",
    "print(dataset[0:5])\n",
    "dataset.head()"
   ]
  },
  {
   "cell_type": "markdown",
   "metadata": {},
   "source": [
    "### Step 3. What is the type of the columns?"
   ]
  },
  {
   "cell_type": "code",
   "execution_count": 13,
   "metadata": {},
   "outputs": [
    {
     "name": "stdout",
     "output_type": "stream",
     "text": [
      "[1960. 1961. 1962. 1963. 1964. 1965. 1966. 1967. 1968. 1969. 1970. 1971.\n",
      " 1972. 1973. 1974. 1975. 1976. 1977. 1978. 1979. 1980. 1981. 1982. 1983.\n",
      " 1984. 1985. 1986. 1987. 1988. 1989. 1990. 1991. 1992. 1993. 1994. 1995.\n",
      " 1996. 1997. 1998. 1999. 2000. 2001. 2002. 2003. 2004. 2005. 2006. 2007.\n",
      " 2008. 2009. 2010. 2011. 2012. 2013. 2014.]\n",
      "<class 'numpy.ndarray'>\n",
      "1\n",
      "<class 'numpy.ndarray'>\n",
      "2\n"
     ]
    },
    {
     "data": {
      "text/plain": [
       "0    float64\n",
       "1    float64\n",
       "2    float64\n",
       "3    float64\n",
       "4    float64\n",
       "5    float64\n",
       "6    float64\n",
       "7    float64\n",
       "8    float64\n",
       "dtype: object"
      ]
     },
     "execution_count": 13,
     "metadata": {},
     "output_type": "execute_result"
    }
   ],
   "source": [
    "dataset = np.genfromtxt(\"crime.csv\",delimiter=\",\", skip_header=1)\n",
    "\n",
    "col_1 = dataset[:,0]\n",
    "print(col_1)\n",
    "print(type(col_1))\n",
    "print(col_1.ndim)\n",
    "print(type(dataset))\n",
    "print(dataset.ndim)\n",
    "\n",
    "df = pd.DataFrame(dataset)\n",
    "df.dtypes\n"
   ]
  },
  {
   "cell_type": "markdown",
   "metadata": {},
   "source": [
    "Type of columns is float (64 refers to the memory allocated to the datatype) and they are N dimensional Array with dimension 1.\n",
    "Type of dataset is N Dimenional Array with dimension 2."
   ]
  },
  {
   "cell_type": "markdown",
   "metadata": {},
   "source": [
    "### Step 4. Generate descriptive statistics"
   ]
  },
  {
   "cell_type": "code",
   "execution_count": 46,
   "metadata": {},
   "outputs": [
    {
     "name": "stdout",
     "output_type": "stream",
     "text": [
      "         Population        Murder  Forcible_Rape        Robbery  \\\n",
      "count  5.500000e+01     55.000000      55.000000      55.000000   \n",
      "mean   2.461556e+08  17317.236364   72714.800000  416449.890909   \n",
      "std    4.166216e+07   4267.442664   28278.006893  150506.403782   \n",
      "min    1.793232e+08   8530.000000   17190.000000  106670.000000   \n",
      "25%    2.106215e+08  14819.000000   53400.000000  354911.500000   \n",
      "50%    2.422829e+08  17030.000000   84230.000000  423557.000000   \n",
      "75%    2.833697e+08  20561.500000   92930.000000  512137.000000   \n",
      "max    3.188571e+08  24700.000000  109060.000000  687730.000000   \n",
      "\n",
      "       Aggravated_assault      Burglary  Larceny_Theft  Vehicle_Theft  \n",
      "count        5.500000e+01  5.500000e+01   5.500000e+01   5.500000e+01  \n",
      "mean         6.811818e+05  2.424017e+06   5.959947e+06   1.028614e+06  \n",
      "std          2.960255e+05  7.259004e+05   1.846401e+06   3.455693e+05  \n",
      "min          1.543200e+05  9.121000e+05   1.855400e+06   3.282000e+05  \n",
      "25%          4.384300e+05  2.105336e+06   4.843350e+06   7.896260e+05  \n",
      "50%          7.412910e+05  2.329950e+06   6.591900e+06   1.032200e+06  \n",
      "75%          9.002150e+05  3.073600e+06   7.168450e+06   1.239302e+06  \n",
      "max          1.135610e+06  3.795200e+06   8.142200e+06   1.661700e+06  \n"
     ]
    },
    {
     "data": {
      "text/html": [
       "<div>\n",
       "<style scoped>\n",
       "    .dataframe tbody tr th:only-of-type {\n",
       "        vertical-align: middle;\n",
       "    }\n",
       "\n",
       "    .dataframe tbody tr th {\n",
       "        vertical-align: top;\n",
       "    }\n",
       "\n",
       "    .dataframe thead th {\n",
       "        text-align: right;\n",
       "    }\n",
       "</style>\n",
       "<table border=\"1\" class=\"dataframe\">\n",
       "  <thead>\n",
       "    <tr style=\"text-align: right;\">\n",
       "      <th></th>\n",
       "      <th>count</th>\n",
       "      <th>mean</th>\n",
       "      <th>std</th>\n",
       "      <th>min</th>\n",
       "      <th>25%</th>\n",
       "      <th>50%</th>\n",
       "      <th>75%</th>\n",
       "      <th>max</th>\n",
       "    </tr>\n",
       "  </thead>\n",
       "  <tbody>\n",
       "    <tr>\n",
       "      <th>Population</th>\n",
       "      <td>55.0</td>\n",
       "      <td>2.461556e+08</td>\n",
       "      <td>4.166216e+07</td>\n",
       "      <td>179323175.0</td>\n",
       "      <td>210621500.0</td>\n",
       "      <td>242282918.0</td>\n",
       "      <td>283369732.5</td>\n",
       "      <td>318857056.0</td>\n",
       "    </tr>\n",
       "    <tr>\n",
       "      <th>Murder</th>\n",
       "      <td>55.0</td>\n",
       "      <td>1.731724e+04</td>\n",
       "      <td>4.267443e+03</td>\n",
       "      <td>8530.0</td>\n",
       "      <td>14819.0</td>\n",
       "      <td>17030.0</td>\n",
       "      <td>20561.5</td>\n",
       "      <td>24700.0</td>\n",
       "    </tr>\n",
       "    <tr>\n",
       "      <th>Forcible_Rape</th>\n",
       "      <td>55.0</td>\n",
       "      <td>7.271480e+04</td>\n",
       "      <td>2.827801e+04</td>\n",
       "      <td>17190.0</td>\n",
       "      <td>53400.0</td>\n",
       "      <td>84230.0</td>\n",
       "      <td>92930.0</td>\n",
       "      <td>109060.0</td>\n",
       "    </tr>\n",
       "    <tr>\n",
       "      <th>Robbery</th>\n",
       "      <td>55.0</td>\n",
       "      <td>4.164499e+05</td>\n",
       "      <td>1.505064e+05</td>\n",
       "      <td>106670.0</td>\n",
       "      <td>354911.5</td>\n",
       "      <td>423557.0</td>\n",
       "      <td>512137.0</td>\n",
       "      <td>687730.0</td>\n",
       "    </tr>\n",
       "    <tr>\n",
       "      <th>Aggravated_assault</th>\n",
       "      <td>55.0</td>\n",
       "      <td>6.811818e+05</td>\n",
       "      <td>2.960255e+05</td>\n",
       "      <td>154320.0</td>\n",
       "      <td>438430.0</td>\n",
       "      <td>741291.0</td>\n",
       "      <td>900215.0</td>\n",
       "      <td>1135610.0</td>\n",
       "    </tr>\n",
       "    <tr>\n",
       "      <th>Burglary</th>\n",
       "      <td>55.0</td>\n",
       "      <td>2.424017e+06</td>\n",
       "      <td>7.259004e+05</td>\n",
       "      <td>912100.0</td>\n",
       "      <td>2105335.5</td>\n",
       "      <td>2329950.0</td>\n",
       "      <td>3073600.0</td>\n",
       "      <td>3795200.0</td>\n",
       "    </tr>\n",
       "    <tr>\n",
       "      <th>Larceny_Theft</th>\n",
       "      <td>55.0</td>\n",
       "      <td>5.959947e+06</td>\n",
       "      <td>1.846401e+06</td>\n",
       "      <td>1855400.0</td>\n",
       "      <td>4843350.0</td>\n",
       "      <td>6591900.0</td>\n",
       "      <td>7168450.0</td>\n",
       "      <td>8142200.0</td>\n",
       "    </tr>\n",
       "    <tr>\n",
       "      <th>Vehicle_Theft</th>\n",
       "      <td>55.0</td>\n",
       "      <td>1.028614e+06</td>\n",
       "      <td>3.455693e+05</td>\n",
       "      <td>328200.0</td>\n",
       "      <td>789626.0</td>\n",
       "      <td>1032200.0</td>\n",
       "      <td>1239302.5</td>\n",
       "      <td>1661700.0</td>\n",
       "    </tr>\n",
       "  </tbody>\n",
       "</table>\n",
       "</div>"
      ],
      "text/plain": [
       "                    count          mean           std          min  \\\n",
       "Population           55.0  2.461556e+08  4.166216e+07  179323175.0   \n",
       "Murder               55.0  1.731724e+04  4.267443e+03       8530.0   \n",
       "Forcible_Rape        55.0  7.271480e+04  2.827801e+04      17190.0   \n",
       "Robbery              55.0  4.164499e+05  1.505064e+05     106670.0   \n",
       "Aggravated_assault   55.0  6.811818e+05  2.960255e+05     154320.0   \n",
       "Burglary             55.0  2.424017e+06  7.259004e+05     912100.0   \n",
       "Larceny_Theft        55.0  5.959947e+06  1.846401e+06    1855400.0   \n",
       "Vehicle_Theft        55.0  1.028614e+06  3.455693e+05     328200.0   \n",
       "\n",
       "                            25%          50%          75%          max  \n",
       "Population          210621500.0  242282918.0  283369732.5  318857056.0  \n",
       "Murder                  14819.0      17030.0      20561.5      24700.0  \n",
       "Forcible_Rape           53400.0      84230.0      92930.0     109060.0  \n",
       "Robbery                354911.5     423557.0     512137.0     687730.0  \n",
       "Aggravated_assault     438430.0     741291.0     900215.0    1135610.0  \n",
       "Burglary              2105335.5    2329950.0    3073600.0    3795200.0  \n",
       "Larceny_Theft         4843350.0    6591900.0    7168450.0    8142200.0  \n",
       "Vehicle_Theft          789626.0    1032200.0    1239302.5    1661700.0  "
      ]
     },
     "execution_count": 46,
     "metadata": {},
     "output_type": "execute_result"
    }
   ],
   "source": [
    "dataset = pd.read_csv('crime.csv', index_col = 0)\n",
    "df = pd.DataFrame(dataset)\n",
    "print(df.describe())\n",
    "df.describe().T"
   ]
  },
  {
   "cell_type": "markdown",
   "metadata": {},
   "source": [
    "### Step 5. Add a new column \"Total\". "
   ]
  },
  {
   "cell_type": "markdown",
   "metadata": {},
   "source": [
    "**This column contains the total crime happened each year**"
   ]
  },
  {
   "cell_type": "code",
   "execution_count": 47,
   "metadata": {},
   "outputs": [
    {
     "data": {
      "text/html": [
       "<div>\n",
       "<style scoped>\n",
       "    .dataframe tbody tr th:only-of-type {\n",
       "        vertical-align: middle;\n",
       "    }\n",
       "\n",
       "    .dataframe tbody tr th {\n",
       "        vertical-align: top;\n",
       "    }\n",
       "\n",
       "    .dataframe thead th {\n",
       "        text-align: right;\n",
       "    }\n",
       "</style>\n",
       "<table border=\"1\" class=\"dataframe\">\n",
       "  <thead>\n",
       "    <tr style=\"text-align: right;\">\n",
       "      <th></th>\n",
       "      <th>Population</th>\n",
       "      <th>Murder</th>\n",
       "      <th>Forcible_Rape</th>\n",
       "      <th>Robbery</th>\n",
       "      <th>Aggravated_assault</th>\n",
       "      <th>Burglary</th>\n",
       "      <th>Larceny_Theft</th>\n",
       "      <th>Vehicle_Theft</th>\n",
       "      <th>Total</th>\n",
       "    </tr>\n",
       "    <tr>\n",
       "      <th>Year</th>\n",
       "      <th></th>\n",
       "      <th></th>\n",
       "      <th></th>\n",
       "      <th></th>\n",
       "      <th></th>\n",
       "      <th></th>\n",
       "      <th></th>\n",
       "      <th></th>\n",
       "      <th></th>\n",
       "    </tr>\n",
       "  </thead>\n",
       "  <tbody>\n",
       "    <tr>\n",
       "      <th>1960</th>\n",
       "      <td>179323175</td>\n",
       "      <td>9110</td>\n",
       "      <td>17190</td>\n",
       "      <td>107840</td>\n",
       "      <td>154320</td>\n",
       "      <td>912100</td>\n",
       "      <td>1855400</td>\n",
       "      <td>328200</td>\n",
       "      <td>3384160</td>\n",
       "    </tr>\n",
       "    <tr>\n",
       "      <th>1961</th>\n",
       "      <td>182992000</td>\n",
       "      <td>8740</td>\n",
       "      <td>17220</td>\n",
       "      <td>106670</td>\n",
       "      <td>156760</td>\n",
       "      <td>949600</td>\n",
       "      <td>1913000</td>\n",
       "      <td>336000</td>\n",
       "      <td>3487990</td>\n",
       "    </tr>\n",
       "    <tr>\n",
       "      <th>1962</th>\n",
       "      <td>185771000</td>\n",
       "      <td>8530</td>\n",
       "      <td>17550</td>\n",
       "      <td>110860</td>\n",
       "      <td>164570</td>\n",
       "      <td>994300</td>\n",
       "      <td>2089600</td>\n",
       "      <td>366800</td>\n",
       "      <td>3752210</td>\n",
       "    </tr>\n",
       "    <tr>\n",
       "      <th>1963</th>\n",
       "      <td>188483000</td>\n",
       "      <td>8640</td>\n",
       "      <td>17650</td>\n",
       "      <td>116470</td>\n",
       "      <td>174210</td>\n",
       "      <td>1086400</td>\n",
       "      <td>2297800</td>\n",
       "      <td>408300</td>\n",
       "      <td>4109470</td>\n",
       "    </tr>\n",
       "    <tr>\n",
       "      <th>1964</th>\n",
       "      <td>191141000</td>\n",
       "      <td>9360</td>\n",
       "      <td>21420</td>\n",
       "      <td>130390</td>\n",
       "      <td>203050</td>\n",
       "      <td>1213200</td>\n",
       "      <td>2514400</td>\n",
       "      <td>472800</td>\n",
       "      <td>4564620</td>\n",
       "    </tr>\n",
       "  </tbody>\n",
       "</table>\n",
       "</div>"
      ],
      "text/plain": [
       "      Population  Murder  Forcible_Rape  Robbery  Aggravated_assault  \\\n",
       "Year                                                                   \n",
       "1960   179323175    9110          17190   107840              154320   \n",
       "1961   182992000    8740          17220   106670              156760   \n",
       "1962   185771000    8530          17550   110860              164570   \n",
       "1963   188483000    8640          17650   116470              174210   \n",
       "1964   191141000    9360          21420   130390              203050   \n",
       "\n",
       "      Burglary  Larceny_Theft  Vehicle_Theft    Total  \n",
       "Year                                                   \n",
       "1960    912100        1855400         328200  3384160  \n",
       "1961    949600        1913000         336000  3487990  \n",
       "1962    994300        2089600         366800  3752210  \n",
       "1963   1086400        2297800         408300  4109470  \n",
       "1964   1213200        2514400         472800  4564620  "
      ]
     },
     "execution_count": 47,
     "metadata": {},
     "output_type": "execute_result"
    }
   ],
   "source": [
    "import pandas as pd\n",
    "dataset = pd.read_csv('crime.csv', index_col = 0)\n",
    "\n",
    "dataset['Total'] = dataset.Murder + dataset.Forcible_Rape + dataset.Robbery + dataset.Aggravated_assault + dataset.Burglary + dataset.Larceny_Theft + dataset.Vehicle_Theft\n",
    "dataset.head()"
   ]
  },
  {
   "cell_type": "markdown",
   "metadata": {},
   "source": [
    "### Step 6. Which are those years when the total crime exceeded 14000000?"
   ]
  },
  {
   "cell_type": "code",
   "execution_count": 48,
   "metadata": {},
   "outputs": [
    {
     "name": "stdout",
     "output_type": "stream",
     "text": [
      "Year\n",
      "1989    14251440\n",
      "1990    14475630\n",
      "1991    14872860\n",
      "1992    14438170\n",
      "1993    14144820\n",
      "Name: Total, dtype: int64\n"
     ]
    }
   ],
   "source": [
    "print(dataset.Total[dataset.Total>14000000])"
   ]
  },
  {
   "cell_type": "markdown",
   "metadata": {},
   "source": [
    "Years in which Total crime exceeded 14000000 were 1989, 1990, 1991, 1992 and 1993."
   ]
  },
  {
   "cell_type": "markdown",
   "metadata": {},
   "source": [
    "### Step 7. Find the year when crime was at its minimum."
   ]
  },
  {
   "cell_type": "code",
   "execution_count": 49,
   "metadata": {},
   "outputs": [
    {
     "name": "stdout",
     "output_type": "stream",
     "text": [
      "Year\n",
      "1960    3384160\n",
      "Name: Total, dtype: int64\n"
     ]
    }
   ],
   "source": [
    "print(dataset.Total[dataset.Total == min(dataset.Total)])"
   ]
  },
  {
   "cell_type": "markdown",
   "metadata": {},
   "source": [
    "1960 was the year in which crime was at its minimum."
   ]
  },
  {
   "cell_type": "markdown",
   "metadata": {},
   "source": [
    "### Step 8. When was the most dangerous and the safest decade to live in this country?"
   ]
  },
  {
   "cell_type": "markdown",
   "metadata": {},
   "source": [
    "**Hint:** https://www.thetopsites.net/article/54003707.shtml"
   ]
  },
  {
   "cell_type": "code",
   "execution_count": 50,
   "metadata": {},
   "outputs": [
    {
     "name": "stdout",
     "output_type": "stream",
     "text": [
      "            Population  Murder  Forcible_Rape  Robbery  Aggravated_assault  \\\n",
      "Year                                                                         \n",
      "1960-01-01  1915053175  106180         236720  1633510             2158520   \n",
      "1970-01-01  2121193298  192230         554570  4159020             4702120   \n",
      "1980-01-01  2371370069  206439         865639  5383109             7619130   \n",
      "1990-01-01  2612825258  211664         998827  5748930            10568963   \n",
      "2000-01-01  2947969117  163068         922499  4230366             8652124   \n",
      "2010-01-01  1570146307   72867         421059  1749809             3764142   \n",
      "\n",
      "            Burglary  Larceny_Theft  Vehicle_Theft      Total  \n",
      "Year                                                           \n",
      "1960-01-01  13321100       26547700        5292100   49295830  \n",
      "1970-01-01  28486000       53157800        9739900  100991640  \n",
      "1980-01-01  33073494       72040253       11935411  131123475  \n",
      "1990-01-01  26750015       77679366       14624418  136582183  \n",
      "2000-01-01  21565176       67970291       11412834  114916358  \n",
      "2010-01-01  10125170       30401698        3569080   50103825  \n",
      "Year\n",
      "1990-01-01    136582183\n",
      "Freq: 10AS-JAN, Name: Total, dtype: int64\n",
      "Year\n",
      "1960-01-01    49295830\n",
      "Freq: 10AS-JAN, Name: Total, dtype: int64\n"
     ]
    }
   ],
   "source": [
    "dataset = pd.read_csv('crime.csv')\n",
    "dataset['Total'] = dataset.Murder + dataset.Forcible_Rape + dataset.Robbery + dataset.Aggravated_assault + dataset.Burglary + dataset.Larceny_Theft + dataset.Vehicle_Theft\n",
    "\n",
    "dataset.Year = pd.to_datetime(dataset.Year, format='%Y')\n",
    "dataset = dataset.set_index('Year', drop=True)\n",
    "dataset1 = dataset.resample('10AS').sum()\n",
    "print(dataset1)\n",
    "\n",
    "#To find out the most dangerous and the safest decade to live\n",
    "\n",
    "print(dataset1.Total[dataset1.Total==max(dataset1.Total)])\n",
    "print(dataset1.Total[dataset1.Total==min(dataset1.Total)])"
   ]
  },
  {
   "cell_type": "markdown",
   "metadata": {},
   "source": [
    "Most dangerous dacade was 1990-1999 to live in the country, whereas the most safest decade to live in the country was 1960-1969."
   ]
  },
  {
   "cell_type": "markdown",
   "metadata": {},
   "source": [
    "### Step 9. Visualize the Crime Rate"
   ]
  },
  {
   "cell_type": "markdown",
   "metadata": {},
   "source": [
    "**Based on the visualization identify which crime is the most frequent and less frequent. Violent Crime OR Property Crime** "
   ]
  },
  {
   "cell_type": "code",
   "execution_count": 51,
   "metadata": {},
   "outputs": [
    {
     "data": {
      "image/png": "[encoded data removed]",
      "text/plain": [
       "<Figure size 720x720 with 1 Axes>"
      ]
     },
     "metadata": {
      "needs_background": "light"
     },
     "output_type": "display_data"
    }
   ],
   "source": [
    "import pandas as pd\n",
    "dataset = pd.read_csv('crime.csv')\n",
    "import matplotlib.pyplot as plt\n",
    "plt_1 = plt.figure(figsize=(10,10))\n",
    "\n",
    "plt.plot(dataset.Year,dataset.Larceny_Theft, label = \"Larceny Thefts\")\n",
    "plt.plot(dataset.Year,dataset.Burglary, label = \"Burglaries\")\n",
    "plt.plot(dataset.Year,dataset.Vehicle_Theft, label = \"Vehicle Thefts\")\n",
    "plt.plot(dataset.Year,dataset.Aggravated_assault, label = \"Aggravated Assaults\")\n",
    "plt.plot(dataset.Year,dataset.Robbery, label = \"Robberies\")\n",
    "plt.plot(dataset.Year,dataset.Forcible_Rape, label = \"Forcible Rapes\")\n",
    "plt.plot(dataset.Year,dataset.Murder, label = \"Murders\")\n",
    "\n",
    "\n",
    "plt.xlabel(\"Year\")\n",
    "plt.ylabel(\"Number of Crimes\")\n",
    "plt.title(\"Comparision of different types of Crimes\")\n",
    "\n",
    "plt.legend()\n",
    "plt.show()"
   ]
  },
  {
   "cell_type": "markdown",
   "metadata": {},
   "source": [
    "As one can see from the graph, Property Crimes such as Burglary, Larcent Theft and Vehicle Theft are more prevalent, of which Larceny thefts are the most occuring crimes.\n",
    "\n",
    "Above plot also shows that murders are the least occuring crimes as compared to other types of crimes. "
   ]
  },
  {
   "cell_type": "markdown",
   "metadata": {},
   "source": [
    "### Step 10. Find two other compelling findings from the given dataset. "
   ]
  },
  {
   "cell_type": "markdown",
   "metadata": {},
   "source": [
    "# Question 1: Which only crime type was at its maximum in the year different than all other crimes; deduced question from the crime visualization question above."
   ]
  },
  {
   "cell_type": "code",
   "execution_count": 52,
   "metadata": {},
   "outputs": [
    {
     "data": {
      "image/png": "[encoded data removed]",
      "text/plain": [
       "<Figure size 720x720 with 1 Axes>"
      ]
     },
     "metadata": {
      "needs_background": "light"
     },
     "output_type": "display_data"
    }
   ],
   "source": [
    "import pandas as pd\n",
    "dataset = pd.read_csv('crime.csv')\n",
    "import matplotlib.pyplot as plt\n",
    "plt_2 = plt.figure(figsize=(10,10))\n",
    "plt.bar(dataset.Year,dataset.Burglary, label= \"Burglaries\")\n",
    "plt.xlabel(\"Year\")\n",
    "plt.ylabel(\"Number of Burglaries\")\n",
    "plt.title(\"Number of Burglaries over the years\")\n",
    "plt.legend()\n",
    "plt.show()\n",
    "\n",
    "\n"
   ]
  },
  {
   "cell_type": "markdown",
   "metadata": {},
   "source": [
    "Answer 1: In terms of maximum crimes, all types of crimes occured to their maximum 1 or 2 years before or after the year 1990, while burglary was the only crime which occured in the year 1980."
   ]
  },
  {
   "cell_type": "markdown",
   "metadata": {},
   "source": [
    "# Question 2: Identify an anomaly from the crime visualization chart of step 9."
   ]
  },
  {
   "cell_type": "code",
   "execution_count": 53,
   "metadata": {},
   "outputs": [
    {
     "data": {
      "image/png": "[encoded data removed]",
      "text/plain": [
       "<Figure size 720x720 with 1 Axes>"
      ]
     },
     "metadata": {
      "needs_background": "light"
     },
     "output_type": "display_data"
    }
   ],
   "source": [
    "import pandas as pd\n",
    "dataset = pd.read_csv('crime.csv')\n",
    "import matplotlib.pyplot as plt\n",
    "plt_3 = plt.figure(figsize=(10,10))\n",
    "plt.scatter(dataset.Year,dataset.Vehicle_Theft, label= \"Vehicle Theft\")\n",
    "plt.scatter(dataset.Year,dataset.Aggravated_assault, label= \"Aggravated Assault\")\n",
    "plt.xlabel(\"Year\")\n",
    "plt.ylabel(\"Crimes\")\n",
    "plt.title(\"Trend\")\n",
    "plt.legend()\n",
    "plt.show()\n"
   ]
  },
  {
   "cell_type": "markdown",
   "metadata": {},
   "source": [
    "Answer 2: Throughout the given period Vehicle theft had been above the number of aggravated assaults, however, this trend is breaking nearby the year 2008, when the number of vehicle thefts had gone below the Aggravated assault crimes."
   ]
  },
  {
   "cell_type": "markdown",
   "metadata": {},
   "source": [
    "Note: Please run the codes in sequence to avoid getting errors."
   ]
  }
 ],
 "metadata": {
  "kernelspec": {
   "display_name": "Python 3",
   "language": "python",
   "name": "python3"
  },
  "language_info": {
   "codemirror_mode": {
    "name": "ipython",
    "version": 3
   },
   "file_extension": ".py",
   "mimetype": "text/x-python",
   "name": "python",
   "nbconvert_exporter": "python",
   "pygments_lexer": "ipython3",
   "version": "3.8.8"
  }
 },
 "nbformat": 4,
 "nbformat_minor": 4
}
